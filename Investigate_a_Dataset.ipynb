{
 "cells": [
  {
   "cell_type": "markdown",
   "metadata": {
    "tags": []
   },
   "source": [
    "# Project: Investigate a Dataset - No-show appointments \n",
    "\n",
    "## Table of Contents\n",
    "<ul>\n",
    "<li><a href=\"#intro\">Introduction</a></li>\n",
    "<li><a href=\"#wrangling\">Data Wrangling</a></li>\n",
    "<li><a href=\"#eda\">Exploratory Data Analysis</a></li>\n",
    "<li><a href=\"#conclusions\">Conclusions</a></li>\n",
    "</ul>"
   ]
  },
  {
   "cell_type": "markdown",
   "metadata": {},
   "source": [
    "<a id='intro'></a>\n",
    "## Introduction\n",
    "\n",
    "### Dataset Description \n",
    "This dataset contains 100,000 medical appointment records from Brazil, focusing on patient attendance at scheduled appointments. Each row represents a unique patient visit, with various attributes detailing patient demographics, appointment details, and external factors that may influence attendance.\n",
    "\n",
    "Dataset comlumns:\n",
    "\n",
    "- **PatientId**: Unique identifier for each patient.\n",
    "- **AppointmentId**:  Unique identifier for each appointment.\n",
    "- **Gender**: Male or Female.\n",
    "- **ScheduledDay**: The date when the appointment was scheduled (i.e., when the patient called or registered).\n",
    "- **AppointmentDay**: The actual date of the appointment.\n",
    "- **Age**: How old is the patient.\n",
    "- **Neighbourhood**: The location of the hospital/clinic where the appointment takes place.\n",
    "- **Scholarship**: Indicates whether the patient is enrolled in the Bolsa Família welfare program (True/False).\n",
    "- **Hipertension**: Whether the patient has hypertension (True/False).\n",
    "- **Diabetes**: Whether the patient has diabetes (True/False).\n",
    "- **Alcoholism**: Whether the patient has a history of alcoholism (True/False).\n",
    "- **Handicap**: Indicates whether the patient has a disability (True/False).\n",
    "- **SMS_received**: 1 or more messages sent to the patient\n",
    "- **No-show**:  Indicates whether the patient attended their appointment (Yes/No).\n",
    "\n",
    "A crucial point to note is the encoding of the last column (No-show):\n",
    "\n",
    "**\"No\"** → The patient attended their appointment.\n",
    "\n",
    "**\"Yes\"** → The patient missed their appointment.\n",
    "\n",
    "### Question(s) for Analysis\n",
    "\n",
    "**1.** Does age affect appointment attendance?\n",
    "\n",
    "**2.** Do medical conditions (Hypertension, Diabetes, Alcoholism) impact attendance?\n",
    "\n",
    "**3.** Does Receiving an SMS Reminder Reduce No-Shows?\n"
   ]
  },
  {
   "cell_type": "code",
   "execution_count": 34,
   "metadata": {
    "tags": []
   },
   "outputs": [],
   "source": [
    "#import statements.\n",
    "\n",
    "import pandas as pd\n",
    "import numpy as np\n",
    "import matplotlib.pyplot as plt\n"
   ]
  },
  {
   "cell_type": "markdown",
   "metadata": {},
   "source": [
    "<a id='wrangling'></a>\n",
    "## Data Wrangling\n",
    "\n",
    "In this section, we will **load, explore, and clean** the dataset to prepare it for analysis.\n",
    "This envolves:\n",
    "\n",
    "- Checking for missing values.\n",
    "- Identifying and handling duplicated values.\n",
    "- Converting data types where necessary.\n",
    "- Standardizing column names for consistency.\n",
    "- Removing invalid or inconsistent data.\n",
    "\n",
    "\n",
    "### General Properties\n",
    "\n",
    "Before cleaning the dataset, we **explore its structure and properties**.\n",
    "This envolves:\n",
    "\n",
    "- Checking the number of rows and columns.\n",
    "- Identifying data types.\n",
    "- Looking at summary statistics to detect any unnusual values.\n",
    "\n",
    "The following cells will help us understand the dataset and identify potential issues.\n"
   ]
  },
  {
   "cell_type": "code",
   "execution_count": 35,
   "metadata": {
    "tags": []
   },
   "outputs": [
    {
     "name": "stdout",
     "output_type": "stream",
     "text": [
      "<class 'pandas.core.frame.DataFrame'>\n",
      "RangeIndex: 110527 entries, 0 to 110526\n",
      "Data columns (total 14 columns):\n",
      " #   Column          Non-Null Count   Dtype  \n",
      "---  ------          --------------   -----  \n",
      " 0   PatientId       110527 non-null  float64\n",
      " 1   AppointmentID   110527 non-null  int64  \n",
      " 2   Gender          110527 non-null  object \n",
      " 3   ScheduledDay    110527 non-null  object \n",
      " 4   AppointmentDay  110527 non-null  object \n",
      " 5   Age             110527 non-null  int64  \n",
      " 6   Neighbourhood   110527 non-null  object \n",
      " 7   Scholarship     110527 non-null  int64  \n",
      " 8   Hipertension    110527 non-null  int64  \n",
      " 9   Diabetes        110527 non-null  int64  \n",
      " 10  Alcoholism      110527 non-null  int64  \n",
      " 11  Handcap         110527 non-null  int64  \n",
      " 12  SMS_received    110527 non-null  int64  \n",
      " 13  No-show         110527 non-null  object \n",
      "dtypes: float64(1), int64(8), object(5)\n",
      "memory usage: 11.8+ MB\n"
     ]
    }
   ],
   "source": [
    "# Load dataset.\n",
    "df = pd.read_csv('Database_No_show_appointments/no_show_appointments_2016.csv')\n",
    "\n",
    "# Display basic information about the dataset.\n",
    "df.info()"
   ]
  },
  {
   "cell_type": "code",
   "execution_count": 36,
   "metadata": {},
   "outputs": [
    {
     "data": {
      "text/plain": [
       "PatientId         0\n",
       "AppointmentID     0\n",
       "Gender            0\n",
       "ScheduledDay      0\n",
       "AppointmentDay    0\n",
       "Age               0\n",
       "Neighbourhood     0\n",
       "Scholarship       0\n",
       "Hipertension      0\n",
       "Diabetes          0\n",
       "Alcoholism        0\n",
       "Handcap           0\n",
       "SMS_received      0\n",
       "No-show           0\n",
       "dtype: int64"
      ]
     },
     "execution_count": 36,
     "metadata": {},
     "output_type": "execute_result"
    }
   ],
   "source": [
    "#Check for Null values.\n",
    "df.isnull().sum()"
   ]
  },
  {
   "cell_type": "code",
   "execution_count": 37,
   "metadata": {},
   "outputs": [
    {
     "data": {
      "text/html": [
       "<div>\n",
       "<style scoped>\n",
       "    .dataframe tbody tr th:only-of-type {\n",
       "        vertical-align: middle;\n",
       "    }\n",
       "\n",
       "    .dataframe tbody tr th {\n",
       "        vertical-align: top;\n",
       "    }\n",
       "\n",
       "    .dataframe thead th {\n",
       "        text-align: right;\n",
       "    }\n",
       "</style>\n",
       "<table border=\"1\" class=\"dataframe\">\n",
       "  <thead>\n",
       "    <tr style=\"text-align: right;\">\n",
       "      <th></th>\n",
       "      <th>PatientId</th>\n",
       "      <th>AppointmentID</th>\n",
       "      <th>Gender</th>\n",
       "      <th>ScheduledDay</th>\n",
       "      <th>AppointmentDay</th>\n",
       "      <th>Age</th>\n",
       "      <th>Neighbourhood</th>\n",
       "      <th>Scholarship</th>\n",
       "      <th>Hipertension</th>\n",
       "      <th>Diabetes</th>\n",
       "      <th>Alcoholism</th>\n",
       "      <th>Handcap</th>\n",
       "      <th>SMS_received</th>\n",
       "      <th>No-show</th>\n",
       "    </tr>\n",
       "  </thead>\n",
       "  <tbody>\n",
       "    <tr>\n",
       "      <th>0</th>\n",
       "      <td>2.987250e+13</td>\n",
       "      <td>5642903</td>\n",
       "      <td>F</td>\n",
       "      <td>2016-04-29T18:38:08Z</td>\n",
       "      <td>2016-04-29T00:00:00Z</td>\n",
       "      <td>62</td>\n",
       "      <td>JARDIM DA PENHA</td>\n",
       "      <td>0</td>\n",
       "      <td>1</td>\n",
       "      <td>0</td>\n",
       "      <td>0</td>\n",
       "      <td>0</td>\n",
       "      <td>0</td>\n",
       "      <td>No</td>\n",
       "    </tr>\n",
       "    <tr>\n",
       "      <th>1</th>\n",
       "      <td>5.589978e+14</td>\n",
       "      <td>5642503</td>\n",
       "      <td>M</td>\n",
       "      <td>2016-04-29T16:08:27Z</td>\n",
       "      <td>2016-04-29T00:00:00Z</td>\n",
       "      <td>56</td>\n",
       "      <td>JARDIM DA PENHA</td>\n",
       "      <td>0</td>\n",
       "      <td>0</td>\n",
       "      <td>0</td>\n",
       "      <td>0</td>\n",
       "      <td>0</td>\n",
       "      <td>0</td>\n",
       "      <td>No</td>\n",
       "    </tr>\n",
       "    <tr>\n",
       "      <th>2</th>\n",
       "      <td>4.262962e+12</td>\n",
       "      <td>5642549</td>\n",
       "      <td>F</td>\n",
       "      <td>2016-04-29T16:19:04Z</td>\n",
       "      <td>2016-04-29T00:00:00Z</td>\n",
       "      <td>62</td>\n",
       "      <td>MATA DA PRAIA</td>\n",
       "      <td>0</td>\n",
       "      <td>0</td>\n",
       "      <td>0</td>\n",
       "      <td>0</td>\n",
       "      <td>0</td>\n",
       "      <td>0</td>\n",
       "      <td>No</td>\n",
       "    </tr>\n",
       "    <tr>\n",
       "      <th>3</th>\n",
       "      <td>8.679512e+11</td>\n",
       "      <td>5642828</td>\n",
       "      <td>F</td>\n",
       "      <td>2016-04-29T17:29:31Z</td>\n",
       "      <td>2016-04-29T00:00:00Z</td>\n",
       "      <td>8</td>\n",
       "      <td>PONTAL DE CAMBURI</td>\n",
       "      <td>0</td>\n",
       "      <td>0</td>\n",
       "      <td>0</td>\n",
       "      <td>0</td>\n",
       "      <td>0</td>\n",
       "      <td>0</td>\n",
       "      <td>No</td>\n",
       "    </tr>\n",
       "    <tr>\n",
       "      <th>4</th>\n",
       "      <td>8.841186e+12</td>\n",
       "      <td>5642494</td>\n",
       "      <td>F</td>\n",
       "      <td>2016-04-29T16:07:23Z</td>\n",
       "      <td>2016-04-29T00:00:00Z</td>\n",
       "      <td>56</td>\n",
       "      <td>JARDIM DA PENHA</td>\n",
       "      <td>0</td>\n",
       "      <td>1</td>\n",
       "      <td>1</td>\n",
       "      <td>0</td>\n",
       "      <td>0</td>\n",
       "      <td>0</td>\n",
       "      <td>No</td>\n",
       "    </tr>\n",
       "  </tbody>\n",
       "</table>\n",
       "</div>"
      ],
      "text/plain": [
       "      PatientId  AppointmentID Gender          ScheduledDay  \\\n",
       "0  2.987250e+13        5642903      F  2016-04-29T18:38:08Z   \n",
       "1  5.589978e+14        5642503      M  2016-04-29T16:08:27Z   \n",
       "2  4.262962e+12        5642549      F  2016-04-29T16:19:04Z   \n",
       "3  8.679512e+11        5642828      F  2016-04-29T17:29:31Z   \n",
       "4  8.841186e+12        5642494      F  2016-04-29T16:07:23Z   \n",
       "\n",
       "         AppointmentDay  Age      Neighbourhood  Scholarship  Hipertension  \\\n",
       "0  2016-04-29T00:00:00Z   62    JARDIM DA PENHA            0             1   \n",
       "1  2016-04-29T00:00:00Z   56    JARDIM DA PENHA            0             0   \n",
       "2  2016-04-29T00:00:00Z   62      MATA DA PRAIA            0             0   \n",
       "3  2016-04-29T00:00:00Z    8  PONTAL DE CAMBURI            0             0   \n",
       "4  2016-04-29T00:00:00Z   56    JARDIM DA PENHA            0             1   \n",
       "\n",
       "   Diabetes  Alcoholism  Handcap  SMS_received No-show  \n",
       "0         0           0        0             0      No  \n",
       "1         0           0        0             0      No  \n",
       "2         0           0        0             0      No  \n",
       "3         0           0        0             0      No  \n",
       "4         1           0        0             0      No  "
      ]
     },
     "execution_count": 37,
     "metadata": {},
     "output_type": "execute_result"
    }
   ],
   "source": [
    "#Display the first few rows of the dataset.\n",
    "df.head()"
   ]
  },
  {
   "cell_type": "markdown",
   "metadata": {},
   "source": [
    "\n",
    "### Data Cleaning\n",
    "This section describes each cleaning step in markdown after the relevant code cells."
   ]
  },
  {
   "cell_type": "markdown",
   "metadata": {},
   "source": [
    "### Cleaning Step 1: Standardizing Column Names\n",
    "- To ensure consistency, we convert all column names to lowecase and replace spaces with undescores.\n",
    "This makes it easir to reference columns in code and makes the dataset easier to read."
   ]
  },
  {
   "cell_type": "code",
   "execution_count": 38,
   "metadata": {},
   "outputs": [
    {
     "data": {
      "text/plain": [
       "Index(['patient_id', 'appointment_id', 'gender', 'scheduled_day',\n",
       "       'appointment_day', 'age', 'neighbourhood', 'scholarship',\n",
       "       'hipertension', 'diabetes', 'alcoholism', 'handicap', 'sms_received',\n",
       "       'no_show'],\n",
       "      dtype='object')"
      ]
     },
     "execution_count": 38,
     "metadata": {},
     "output_type": "execute_result"
    }
   ],
   "source": [
    "#Make all column names consistent and lowercase. \n",
    "df.columns = df.columns.str.lower().str.replace('-', '_')\n",
    "\n",
    "#Rename columns\n",
    "df.rename(columns={'patientid': 'patient_id', 'appointmentid': 'appointment_id',\n",
    "         'scheduledday': 'scheduled_day', 'appointmentday': 'appointment_day',\n",
    "                   'handcap': 'handicap'}, inplace=True)\n",
    "\n",
    "df.columns"
   ]
  },
  {
   "cell_type": "markdown",
   "metadata": {},
   "source": [
    "### Cleaning Step 2: Converting Date Columns\n",
    "\n",
    "- The *scheduled_day* and *appointment_day* columns are stored as strings. To allow for easier time-based analysis, we convert them to **datetime** format."
   ]
  },
  {
   "cell_type": "code",
   "execution_count": 39,
   "metadata": {},
   "outputs": [
    {
     "data": {
      "text/plain": [
       "patient_id                     float64\n",
       "appointment_id                   int64\n",
       "gender                          object\n",
       "scheduled_day      datetime64[ns, UTC]\n",
       "appointment_day    datetime64[ns, UTC]\n",
       "age                              int64\n",
       "neighbourhood                   object\n",
       "scholarship                      int64\n",
       "hipertension                     int64\n",
       "diabetes                         int64\n",
       "alcoholism                       int64\n",
       "handicap                         int64\n",
       "sms_received                     int64\n",
       "no_show                         object\n",
       "dtype: object"
      ]
     },
     "execution_count": 39,
     "metadata": {},
     "output_type": "execute_result"
    }
   ],
   "source": [
    "#Convert 'scheduled_day' and 'appointment_day' columns to datetime data type.\n",
    "\n",
    "df['scheduled_day'] = pd.to_datetime(df['scheduled_day'])\n",
    "df['appointment_day'] = pd.to_datetime(df['appointment_day'])\n",
    "\n",
    "#Check if change was successfull.\n",
    "df.dtypes"
   ]
  },
  {
   "cell_type": "markdown",
   "metadata": {},
   "source": [
    "### Cleaning Step 3: Converting Data Types\n",
    "\n",
    "- The *patient_id* column is stored as float. We convert it to **integer** for easier manipulation.\n",
    "\n",
    "\n",
    "- We convert the *appointment_id* column from integer to **string** to avoid accidental caulculations."
   ]
  },
  {
   "cell_type": "code",
   "execution_count": 40,
   "metadata": {},
   "outputs": [
    {
     "data": {
      "text/plain": [
       "patient_id                       int64\n",
       "appointment_id                  object\n",
       "gender                          object\n",
       "scheduled_day      datetime64[ns, UTC]\n",
       "appointment_day    datetime64[ns, UTC]\n",
       "age                              int64\n",
       "neighbourhood                   object\n",
       "scholarship                      int64\n",
       "hipertension                     int64\n",
       "diabetes                         int64\n",
       "alcoholism                       int64\n",
       "handicap                         int64\n",
       "sms_received                     int64\n",
       "no_show                         object\n",
       "dtype: object"
      ]
     },
     "execution_count": 40,
     "metadata": {},
     "output_type": "execute_result"
    }
   ],
   "source": [
    "#Convert 'patient_id' from float to integer for easier manipulation.\n",
    "df['patient_id'] = df['patient_id'].astype(int)\n",
    "\n",
    "#Convert 'appointment_id' from integer to string to avoid accidental caulculations.\n",
    "df['appointment_id'] = df['appointment_id'].astype(str)\n",
    "\n",
    "#Check if change was successfull.\n",
    "df.dtypes"
   ]
  },
  {
   "cell_type": "markdown",
   "metadata": {},
   "source": [
    "### Cleaning Step 4: Converting Categorical Data to Boolean\n",
    "- The columns *hipertension*, *diabetes*, *alcoholism*, and *handicap* contain binary data (0 = No, 1 = Yes). We convert them into boolean values (`True/False`) for better readability. \n"
   ]
  },
  {
   "cell_type": "code",
   "execution_count": 41,
   "metadata": {},
   "outputs": [
    {
     "data": {
      "text/plain": [
       "patient_id                       int64\n",
       "appointment_id                  object\n",
       "gender                          object\n",
       "scheduled_day      datetime64[ns, UTC]\n",
       "appointment_day    datetime64[ns, UTC]\n",
       "age                              int64\n",
       "neighbourhood                   object\n",
       "scholarship                      int64\n",
       "hipertension                      bool\n",
       "diabetes                          bool\n",
       "alcoholism                        bool\n",
       "handicap                          bool\n",
       "sms_received                     int64\n",
       "no_show                         object\n",
       "dtype: object"
      ]
     },
     "execution_count": 41,
     "metadata": {},
     "output_type": "execute_result"
    }
   ],
   "source": [
    "#Convert columns to boolean for better readability. \n",
    "col_boolean = ['hipertension', 'diabetes', 'alcoholism', 'handicap']\n",
    "df[col_boolean] = df[col_boolean].astype(bool)\n",
    "\n",
    "#Check if change was successfull.\n",
    "df.dtypes"
   ]
  },
  {
   "cell_type": "markdown",
   "metadata": {},
   "source": [
    "### Cleaning Step 5: Converting Column to Numeric\n",
    "- The *no_show* column contains \"Yes\" (Missed Appointment) and \"No\" (Attended). We convert the column to numeric format to make analysis easier. It will read *1 for Yes* and *0 for No*."
   ]
  },
  {
   "cell_type": "code",
   "execution_count": 42,
   "metadata": {},
   "outputs": [
    {
     "data": {
      "text/plain": [
       "array(['No', 'Yes'], dtype=object)"
      ]
     },
     "execution_count": 42,
     "metadata": {},
     "output_type": "execute_result"
    }
   ],
   "source": [
    "#Check for unique values in \"no_show\"\n",
    "df['no_show'].unique()"
   ]
  },
  {
   "cell_type": "code",
   "execution_count": 43,
   "metadata": {},
   "outputs": [
    {
     "name": "stdout",
     "output_type": "stream",
     "text": [
      "<class 'pandas.core.frame.DataFrame'>\n",
      "RangeIndex: 110527 entries, 0 to 110526\n",
      "Data columns (total 14 columns):\n",
      " #   Column           Non-Null Count   Dtype              \n",
      "---  ------           --------------   -----              \n",
      " 0   patient_id       110527 non-null  int64              \n",
      " 1   appointment_id   110527 non-null  object             \n",
      " 2   gender           110527 non-null  object             \n",
      " 3   scheduled_day    110527 non-null  datetime64[ns, UTC]\n",
      " 4   appointment_day  110527 non-null  datetime64[ns, UTC]\n",
      " 5   age              110527 non-null  int64              \n",
      " 6   neighbourhood    110527 non-null  object             \n",
      " 7   scholarship      110527 non-null  int64              \n",
      " 8   hipertension     110527 non-null  bool               \n",
      " 9   diabetes         110527 non-null  bool               \n",
      " 10  alcoholism       110527 non-null  bool               \n",
      " 11  handicap         110527 non-null  bool               \n",
      " 12  sms_received     110527 non-null  int64              \n",
      " 13  no_show          110527 non-null  int64              \n",
      "dtypes: bool(4), datetime64[ns, UTC](2), int64(5), object(3)\n",
      "memory usage: 8.9+ MB\n"
     ]
    },
    {
     "data": {
      "text/html": [
       "<div>\n",
       "<style scoped>\n",
       "    .dataframe tbody tr th:only-of-type {\n",
       "        vertical-align: middle;\n",
       "    }\n",
       "\n",
       "    .dataframe tbody tr th {\n",
       "        vertical-align: top;\n",
       "    }\n",
       "\n",
       "    .dataframe thead th {\n",
       "        text-align: right;\n",
       "    }\n",
       "</style>\n",
       "<table border=\"1\" class=\"dataframe\">\n",
       "  <thead>\n",
       "    <tr style=\"text-align: right;\">\n",
       "      <th></th>\n",
       "      <th>patient_id</th>\n",
       "      <th>appointment_id</th>\n",
       "      <th>gender</th>\n",
       "      <th>scheduled_day</th>\n",
       "      <th>appointment_day</th>\n",
       "      <th>age</th>\n",
       "      <th>neighbourhood</th>\n",
       "      <th>scholarship</th>\n",
       "      <th>hipertension</th>\n",
       "      <th>diabetes</th>\n",
       "      <th>alcoholism</th>\n",
       "      <th>handicap</th>\n",
       "      <th>sms_received</th>\n",
       "      <th>no_show</th>\n",
       "    </tr>\n",
       "  </thead>\n",
       "  <tbody>\n",
       "    <tr>\n",
       "      <th>110522</th>\n",
       "      <td>2572134369293</td>\n",
       "      <td>5651768</td>\n",
       "      <td>F</td>\n",
       "      <td>2016-05-03 09:15:35+00:00</td>\n",
       "      <td>2016-06-07 00:00:00+00:00</td>\n",
       "      <td>56</td>\n",
       "      <td>MARIA ORTIZ</td>\n",
       "      <td>0</td>\n",
       "      <td>False</td>\n",
       "      <td>False</td>\n",
       "      <td>False</td>\n",
       "      <td>False</td>\n",
       "      <td>1</td>\n",
       "      <td>0</td>\n",
       "    </tr>\n",
       "    <tr>\n",
       "      <th>110523</th>\n",
       "      <td>3596266328735</td>\n",
       "      <td>5650093</td>\n",
       "      <td>F</td>\n",
       "      <td>2016-05-03 07:27:33+00:00</td>\n",
       "      <td>2016-06-07 00:00:00+00:00</td>\n",
       "      <td>51</td>\n",
       "      <td>MARIA ORTIZ</td>\n",
       "      <td>0</td>\n",
       "      <td>False</td>\n",
       "      <td>False</td>\n",
       "      <td>False</td>\n",
       "      <td>False</td>\n",
       "      <td>1</td>\n",
       "      <td>0</td>\n",
       "    </tr>\n",
       "    <tr>\n",
       "      <th>110524</th>\n",
       "      <td>15576631729893</td>\n",
       "      <td>5630692</td>\n",
       "      <td>F</td>\n",
       "      <td>2016-04-27 16:03:52+00:00</td>\n",
       "      <td>2016-06-07 00:00:00+00:00</td>\n",
       "      <td>21</td>\n",
       "      <td>MARIA ORTIZ</td>\n",
       "      <td>0</td>\n",
       "      <td>False</td>\n",
       "      <td>False</td>\n",
       "      <td>False</td>\n",
       "      <td>False</td>\n",
       "      <td>1</td>\n",
       "      <td>0</td>\n",
       "    </tr>\n",
       "    <tr>\n",
       "      <th>110525</th>\n",
       "      <td>92134931435557</td>\n",
       "      <td>5630323</td>\n",
       "      <td>F</td>\n",
       "      <td>2016-04-27 15:09:23+00:00</td>\n",
       "      <td>2016-06-07 00:00:00+00:00</td>\n",
       "      <td>38</td>\n",
       "      <td>MARIA ORTIZ</td>\n",
       "      <td>0</td>\n",
       "      <td>False</td>\n",
       "      <td>False</td>\n",
       "      <td>False</td>\n",
       "      <td>False</td>\n",
       "      <td>1</td>\n",
       "      <td>0</td>\n",
       "    </tr>\n",
       "    <tr>\n",
       "      <th>110526</th>\n",
       "      <td>377511518121127</td>\n",
       "      <td>5629448</td>\n",
       "      <td>F</td>\n",
       "      <td>2016-04-27 13:30:56+00:00</td>\n",
       "      <td>2016-06-07 00:00:00+00:00</td>\n",
       "      <td>54</td>\n",
       "      <td>MARIA ORTIZ</td>\n",
       "      <td>0</td>\n",
       "      <td>False</td>\n",
       "      <td>False</td>\n",
       "      <td>False</td>\n",
       "      <td>False</td>\n",
       "      <td>1</td>\n",
       "      <td>0</td>\n",
       "    </tr>\n",
       "  </tbody>\n",
       "</table>\n",
       "</div>"
      ],
      "text/plain": [
       "             patient_id appointment_id gender             scheduled_day  \\\n",
       "110522    2572134369293        5651768      F 2016-05-03 09:15:35+00:00   \n",
       "110523    3596266328735        5650093      F 2016-05-03 07:27:33+00:00   \n",
       "110524   15576631729893        5630692      F 2016-04-27 16:03:52+00:00   \n",
       "110525   92134931435557        5630323      F 2016-04-27 15:09:23+00:00   \n",
       "110526  377511518121127        5629448      F 2016-04-27 13:30:56+00:00   \n",
       "\n",
       "                 appointment_day  age neighbourhood  scholarship  \\\n",
       "110522 2016-06-07 00:00:00+00:00   56   MARIA ORTIZ            0   \n",
       "110523 2016-06-07 00:00:00+00:00   51   MARIA ORTIZ            0   \n",
       "110524 2016-06-07 00:00:00+00:00   21   MARIA ORTIZ            0   \n",
       "110525 2016-06-07 00:00:00+00:00   38   MARIA ORTIZ            0   \n",
       "110526 2016-06-07 00:00:00+00:00   54   MARIA ORTIZ            0   \n",
       "\n",
       "        hipertension  diabetes  alcoholism  handicap  sms_received  no_show  \n",
       "110522         False     False       False     False             1        0  \n",
       "110523         False     False       False     False             1        0  \n",
       "110524         False     False       False     False             1        0  \n",
       "110525         False     False       False     False             1        0  \n",
       "110526         False     False       False     False             1        0  "
      ]
     },
     "execution_count": 43,
     "metadata": {},
     "output_type": "execute_result"
    }
   ],
   "source": [
    "#Convert 'no_show' column to binary data type for easier analysis.\n",
    "df['no_show'] = df['no_show'].replace({'Yes': 1, 'No': 0})\n",
    "\n",
    "#Check if change was successfull.\n",
    "df.info()\n",
    "df.tail()"
   ]
  },
  {
   "cell_type": "markdown",
   "metadata": {},
   "source": [
    "### Cleaning Step 6:  Handling Invalid Age Values\n",
    "- Upon inspection, we found that the `age` column contains:\n",
    " **Negative values (`-1`)**, which are likely data entry errors. To resolve the issue we will remove the negative values.\n",
    " "
   ]
  },
  {
   "cell_type": "code",
   "execution_count": 44,
   "metadata": {},
   "outputs": [
    {
     "data": {
      "text/plain": [
       "count    110527.000000\n",
       "mean         37.088874\n",
       "std          23.110205\n",
       "min          -1.000000\n",
       "25%          18.000000\n",
       "50%          37.000000\n",
       "75%          55.000000\n",
       "max         115.000000\n",
       "Name: age, dtype: float64"
      ]
     },
     "execution_count": 44,
     "metadata": {},
     "output_type": "execute_result"
    }
   ],
   "source": [
    "#Check for invalid age values.\n",
    "df['age'].describe()"
   ]
  },
  {
   "cell_type": "code",
   "execution_count": 45,
   "metadata": {},
   "outputs": [
    {
     "data": {
      "text/plain": [
       "count    110526.000000\n",
       "mean         37.089219\n",
       "std          23.110026\n",
       "min           0.000000\n",
       "25%          18.000000\n",
       "50%          37.000000\n",
       "75%          55.000000\n",
       "max         115.000000\n",
       "Name: age, dtype: float64"
      ]
     },
     "execution_count": 45,
     "metadata": {},
     "output_type": "execute_result"
    }
   ],
   "source": [
    "#Remove negative age values.\n",
    "df = df[df['age'] >= 0]\n",
    "\n",
    "#Check if change was successfull.\n",
    "df['age'].describe()"
   ]
  },
  {
   "cell_type": "markdown",
   "metadata": {},
   "source": [
    "### Cleanig Step 7: Check and Remove duplicates\n",
    "- To ensure data quality, we check for duplicate values in the dataset. First, we check for full duplicate rows. Then, we check for duplicate records on *appointment_id* column. Since no duplicates were found, we do not remove any records."
   ]
  },
  {
   "cell_type": "code",
   "execution_count": 46,
   "metadata": {},
   "outputs": [
    {
     "data": {
      "text/plain": [
       "0"
      ]
     },
     "execution_count": 46,
     "metadata": {},
     "output_type": "execute_result"
    }
   ],
   "source": [
    "#Check and remove duplicates if any exist.\n",
    "df.duplicated().sum()\n",
    "df.duplicated('appointment_id').sum()"
   ]
  },
  {
   "cell_type": "markdown",
   "metadata": {},
   "source": [
    "### Final Data Verification\n",
    "- After cleaning the dataset, we verufy the final structure to ensure all data types are correct. We confirm that no missing values or duplicate values remain and check categorical variables were properly converted."
   ]
  },
  {
   "cell_type": "code",
   "execution_count": 47,
   "metadata": {
    "tags": []
   },
   "outputs": [
    {
     "name": "stdout",
     "output_type": "stream",
     "text": [
      "<class 'pandas.core.frame.DataFrame'>\n",
      "Int64Index: 110526 entries, 0 to 110526\n",
      "Data columns (total 14 columns):\n",
      " #   Column           Non-Null Count   Dtype              \n",
      "---  ------           --------------   -----              \n",
      " 0   patient_id       110526 non-null  int64              \n",
      " 1   appointment_id   110526 non-null  object             \n",
      " 2   gender           110526 non-null  object             \n",
      " 3   scheduled_day    110526 non-null  datetime64[ns, UTC]\n",
      " 4   appointment_day  110526 non-null  datetime64[ns, UTC]\n",
      " 5   age              110526 non-null  int64              \n",
      " 6   neighbourhood    110526 non-null  object             \n",
      " 7   scholarship      110526 non-null  int64              \n",
      " 8   hipertension     110526 non-null  bool               \n",
      " 9   diabetes         110526 non-null  bool               \n",
      " 10  alcoholism       110526 non-null  bool               \n",
      " 11  handicap         110526 non-null  bool               \n",
      " 12  sms_received     110526 non-null  int64              \n",
      " 13  no_show          110526 non-null  int64              \n",
      "dtypes: bool(4), datetime64[ns, UTC](2), int64(5), object(3)\n",
      "memory usage: 9.7+ MB\n"
     ]
    },
    {
     "data": {
      "text/html": [
       "<div>\n",
       "<style scoped>\n",
       "    .dataframe tbody tr th:only-of-type {\n",
       "        vertical-align: middle;\n",
       "    }\n",
       "\n",
       "    .dataframe tbody tr th {\n",
       "        vertical-align: top;\n",
       "    }\n",
       "\n",
       "    .dataframe thead th {\n",
       "        text-align: right;\n",
       "    }\n",
       "</style>\n",
       "<table border=\"1\" class=\"dataframe\">\n",
       "  <thead>\n",
       "    <tr style=\"text-align: right;\">\n",
       "      <th></th>\n",
       "      <th>patient_id</th>\n",
       "      <th>age</th>\n",
       "      <th>scholarship</th>\n",
       "      <th>sms_received</th>\n",
       "      <th>no_show</th>\n",
       "    </tr>\n",
       "  </thead>\n",
       "  <tbody>\n",
       "    <tr>\n",
       "      <th>count</th>\n",
       "      <td>1.105260e+05</td>\n",
       "      <td>110526.000000</td>\n",
       "      <td>110526.000000</td>\n",
       "      <td>110526.000000</td>\n",
       "      <td>110526.000000</td>\n",
       "    </tr>\n",
       "    <tr>\n",
       "      <th>mean</th>\n",
       "      <td>1.474934e+14</td>\n",
       "      <td>37.089219</td>\n",
       "      <td>0.098266</td>\n",
       "      <td>0.321029</td>\n",
       "      <td>0.201934</td>\n",
       "    </tr>\n",
       "    <tr>\n",
       "      <th>std</th>\n",
       "      <td>2.560943e+14</td>\n",
       "      <td>23.110026</td>\n",
       "      <td>0.297676</td>\n",
       "      <td>0.466874</td>\n",
       "      <td>0.401445</td>\n",
       "    </tr>\n",
       "    <tr>\n",
       "      <th>min</th>\n",
       "      <td>3.921700e+04</td>\n",
       "      <td>0.000000</td>\n",
       "      <td>0.000000</td>\n",
       "      <td>0.000000</td>\n",
       "      <td>0.000000</td>\n",
       "    </tr>\n",
       "    <tr>\n",
       "      <th>25%</th>\n",
       "      <td>4.172536e+12</td>\n",
       "      <td>18.000000</td>\n",
       "      <td>0.000000</td>\n",
       "      <td>0.000000</td>\n",
       "      <td>0.000000</td>\n",
       "    </tr>\n",
       "    <tr>\n",
       "      <th>50%</th>\n",
       "      <td>3.173184e+13</td>\n",
       "      <td>37.000000</td>\n",
       "      <td>0.000000</td>\n",
       "      <td>0.000000</td>\n",
       "      <td>0.000000</td>\n",
       "    </tr>\n",
       "    <tr>\n",
       "      <th>75%</th>\n",
       "      <td>9.438963e+13</td>\n",
       "      <td>55.000000</td>\n",
       "      <td>0.000000</td>\n",
       "      <td>1.000000</td>\n",
       "      <td>0.000000</td>\n",
       "    </tr>\n",
       "    <tr>\n",
       "      <th>max</th>\n",
       "      <td>9.999816e+14</td>\n",
       "      <td>115.000000</td>\n",
       "      <td>1.000000</td>\n",
       "      <td>1.000000</td>\n",
       "      <td>1.000000</td>\n",
       "    </tr>\n",
       "  </tbody>\n",
       "</table>\n",
       "</div>"
      ],
      "text/plain": [
       "         patient_id            age    scholarship   sms_received  \\\n",
       "count  1.105260e+05  110526.000000  110526.000000  110526.000000   \n",
       "mean   1.474934e+14      37.089219       0.098266       0.321029   \n",
       "std    2.560943e+14      23.110026       0.297676       0.466874   \n",
       "min    3.921700e+04       0.000000       0.000000       0.000000   \n",
       "25%    4.172536e+12      18.000000       0.000000       0.000000   \n",
       "50%    3.173184e+13      37.000000       0.000000       0.000000   \n",
       "75%    9.438963e+13      55.000000       0.000000       1.000000   \n",
       "max    9.999816e+14     115.000000       1.000000       1.000000   \n",
       "\n",
       "             no_show  \n",
       "count  110526.000000  \n",
       "mean        0.201934  \n",
       "std         0.401445  \n",
       "min         0.000000  \n",
       "25%         0.000000  \n",
       "50%         0.000000  \n",
       "75%         0.000000  \n",
       "max         1.000000  "
      ]
     },
     "execution_count": 47,
     "metadata": {},
     "output_type": "execute_result"
    }
   ],
   "source": [
    "#Verify the final structure before exploratory analysis.\n",
    "df.info()\n",
    "df.describe()"
   ]
  },
  {
   "cell_type": "markdown",
   "metadata": {},
   "source": [
    "<a id='eda'></a>\n",
    "## Exploratory Data Analysis\n",
    "\n",
    "Now that we have cleaned and prepared our dataset, we will explore the data to **answer key research questions**.  \n",
    "This involves computing **summary statistics**, identifying trends, and using **visualizations** to better understand relationships between variables.  "
   ]
  },
  {
   "cell_type": "markdown",
   "metadata": {},
   "source": [
    "### Creating a Reusable Function for Bar Charts\n",
    "\n",
    "Throughout the analysis, we generate multiple **bar charts** to compare no-show rates across different factors.\n",
    "\n",
    "Instead of repeating the same plotting code, we define a **reusable function** to create bar charts with appropriate **titles, labels, colors, and legends**.  \n",
    "\n",
    "This function improves **code efficiency** and ensures all charts follow a **consistent format**."
   ]
  },
  {
   "cell_type": "code",
   "execution_count": 48,
   "metadata": {},
   "outputs": [],
   "source": [
    "# Define function to create a standardized bar chart \n",
    "\n",
    "def plot_bar(data, title, xlabel, ylabel, labels=None, colors=None):\n",
    "    \n",
    "    plt.figure(figsize=(8,5))\n",
    "    ax = data.plot(kind='bar', color=colors if colors else 'blue')\n",
    "    \n",
    "    # Custom x-axis labels\n",
    "    if labels:\n",
    "        ax.set_xticklabels(labels, rotation=0)\n",
    "        \n",
    "    # Add title, labels, and legend    \n",
    "    plt.title(title)\n",
    "    plt.xlabel(xlabel)\n",
    "    plt.ylabel(ylabel)\n",
    "    \n",
    "    # Add Legend if multiple categories exist\n",
    "    if labels and colors:\n",
    "        plt.legend(handles=[plt.Rectangle((0,0),1,1, color=colors[i])\n",
    "                            for i in range(len(labels))], labels=labels, loc='upper right')\n",
    "        \n",
    "    plt.ylim(0, 1)\n",
    "    plt.show()"
   ]
  },
  {
   "cell_type": "markdown",
   "metadata": {},
   "source": [
    "### General Trend: No-Show Rates in the Dataset\n",
    "\n",
    "Before analyzing specific factors, we need to understand **how common no-shows are** in our dataset.  "
   ]
  },
  {
   "cell_type": "code",
   "execution_count": 49,
   "metadata": {},
   "outputs": [
    {
     "name": "stdout",
     "output_type": "stream",
     "text": [
      "Overall No-Show Rate: 20.19%\n"
     ]
    }
   ],
   "source": [
    "# Calculate overall no-show rate\n",
    "\n",
    "overall_no_show_rate = df['no_show'].mean()\n",
    "\n",
    "print(f'Overall No-Show Rate: {overall_no_show_rate:.2%}')"
   ]
  },
  {
   "cell_type": "markdown",
   "metadata": {},
   "source": [
    "The **overall no-show rate** is **20.19%**, meaning approximately **20 out of every 100 patients miss their appointments**.  \n",
    "Next, we investigate **what factors influence this behavior**."
   ]
  },
  {
   "cell_type": "markdown",
   "metadata": {},
   "source": [
    "###  1. Does age affect appointment attendance?\n",
    "\n",
    "### Categorizing Ages into Groups\n",
    "\n",
    "To better analyze the relationship between age and attendance, we group patients into **predefined age categories**.  \n",
    "This allows us to compare **trends across different age groups** and identify whether younger or older patients are more likely to miss appointments."
   ]
  },
  {
   "cell_type": "code",
   "execution_count": 50,
   "metadata": {
    "scrolled": true,
    "tags": []
   },
   "outputs": [
    {
     "data": {
      "text/html": [
       "<div>\n",
       "<style scoped>\n",
       "    .dataframe tbody tr th:only-of-type {\n",
       "        vertical-align: middle;\n",
       "    }\n",
       "\n",
       "    .dataframe tbody tr th {\n",
       "        vertical-align: top;\n",
       "    }\n",
       "\n",
       "    .dataframe thead th {\n",
       "        text-align: right;\n",
       "    }\n",
       "</style>\n",
       "<table border=\"1\" class=\"dataframe\">\n",
       "  <thead>\n",
       "    <tr style=\"text-align: right;\">\n",
       "      <th></th>\n",
       "      <th>age</th>\n",
       "      <th>age_groups</th>\n",
       "    </tr>\n",
       "  </thead>\n",
       "  <tbody>\n",
       "    <tr>\n",
       "      <th>0</th>\n",
       "      <td>62</td>\n",
       "      <td>51-65</td>\n",
       "    </tr>\n",
       "    <tr>\n",
       "      <th>1</th>\n",
       "      <td>56</td>\n",
       "      <td>51-65</td>\n",
       "    </tr>\n",
       "    <tr>\n",
       "      <th>2</th>\n",
       "      <td>62</td>\n",
       "      <td>51-65</td>\n",
       "    </tr>\n",
       "    <tr>\n",
       "      <th>3</th>\n",
       "      <td>8</td>\n",
       "      <td>0-18</td>\n",
       "    </tr>\n",
       "    <tr>\n",
       "      <th>4</th>\n",
       "      <td>56</td>\n",
       "      <td>51-65</td>\n",
       "    </tr>\n",
       "    <tr>\n",
       "      <th>5</th>\n",
       "      <td>76</td>\n",
       "      <td>66-100</td>\n",
       "    </tr>\n",
       "    <tr>\n",
       "      <th>6</th>\n",
       "      <td>23</td>\n",
       "      <td>19-35</td>\n",
       "    </tr>\n",
       "    <tr>\n",
       "      <th>7</th>\n",
       "      <td>39</td>\n",
       "      <td>36-50</td>\n",
       "    </tr>\n",
       "    <tr>\n",
       "      <th>8</th>\n",
       "      <td>21</td>\n",
       "      <td>19-35</td>\n",
       "    </tr>\n",
       "    <tr>\n",
       "      <th>9</th>\n",
       "      <td>19</td>\n",
       "      <td>19-35</td>\n",
       "    </tr>\n",
       "  </tbody>\n",
       "</table>\n",
       "</div>"
      ],
      "text/plain": [
       "   age age_groups\n",
       "0   62      51-65\n",
       "1   56      51-65\n",
       "2   62      51-65\n",
       "3    8       0-18\n",
       "4   56      51-65\n",
       "5   76     66-100\n",
       "6   23      19-35\n",
       "7   39      36-50\n",
       "8   21      19-35\n",
       "9   19      19-35"
      ]
     },
     "execution_count": 50,
     "metadata": {},
     "output_type": "execute_result"
    }
   ],
   "source": [
    "# Separate age into groups for better analysis.\n",
    "\n",
    "bins = [0, 18, 35, 50, 65, 100, 120] # Define bin edges\n",
    "labels = ['0-18', '19-35', '36-50', '51-65', '66-100', '101+'] # Categorize ages.\n",
    "\n",
    "df['age_groups'] = pd.cut(df['age'], bins= bins, labels=labels)\n",
    "\n",
    "# Check if the age groups were assigned correctly.\n",
    "df[['age', 'age_groups']].head(10)"
   ]
  },
  {
   "cell_type": "markdown",
   "metadata": {},
   "source": [
    "### Calculating No-Show Rates by Age Group\n",
    "\n",
    "Now that we have categorized patients into age groups, we will compute the **no-show rate** for each age group.  \n",
    "The `no_show` column is **1 for missed appointments** and **0 for attended**.\n",
    "\n",
    "The table below shows the **number of attended (`0`) and missed (`1`) appointments** for each age group.  "
   ]
  },
  {
   "cell_type": "code",
   "execution_count": 51,
   "metadata": {},
   "outputs": [
    {
     "name": "stdout",
     "output_type": "stream",
     "text": [
      "no_show         0     1\n",
      "age_groups             \n",
      "0-18        19619  5708\n",
      "19-35       18384  5753\n",
      "36-50       17608  4492\n",
      "51-65       18461  3661\n",
      "66-100      11231  2063\n",
      "101+            4     3\n"
     ]
    }
   ],
   "source": [
    "# Calculate no-show rates by age groups.\n",
    "age_no_show = df.groupby(['age_groups', 'no_show']).size().unstack()\n",
    "\n",
    "print(age_no_show)"
   ]
  },
  {
   "cell_type": "markdown",
   "metadata": {},
   "source": [
    "Taking the **mean of `no_show`** for each age group gives the **no-show rate** (percentage of missed appointments).\n",
    "To find the **attendance rate**, we subtract the no-show rate from `1`.\n",
    "\n",
    "The **no-show rate** tells us what proportion of each age group **misses their appointments**.\n",
    "  \n",
    "This helps us determine whether certain age groups are **more likely to miss their appointments** than others."
   ]
  },
  {
   "cell_type": "code",
   "execution_count": 52,
   "metadata": {},
   "outputs": [
    {
     "name": "stdout",
     "output_type": "stream",
     "text": [
      "age_groups\n",
      "0-18      0.774628\n",
      "19-35     0.761652\n",
      "36-50     0.796742\n",
      "51-65     0.834509\n",
      "66-100    0.844817\n",
      "101+      0.571429\n",
      "Name: no_show, dtype: float64\n"
     ]
    }
   ],
   "source": [
    "# Get average no_show rate by age group.\n",
    "\n",
    "age_no_show_rate = df.groupby('age_groups')['no_show'].mean()\n",
    "\n",
    "# Convert it to attendance rate.\n",
    "\n",
    "age_attendance_rate = 1 - age_no_show_rate \n",
    "\n",
    "print(age_attendance_rate)"
   ]
  },
  {
   "cell_type": "markdown",
   "metadata": {},
   "source": [
    "### Visualizing Attendance Rates by Age Group\n",
    "\n",
    "To better understand how age influences attendance, we visualize the **attendance rate per age group** using a bar chart.  \n",
    "This will help us see which age groups have the highest and lowest attendance rates."
   ]
  },
  {
   "cell_type": "code",
   "execution_count": 53,
   "metadata": {},
   "outputs": [
    {
     "data": {
      "image/png": "[encoded data removed]",
      "text/plain": [
       "<Figure size 800x500 with 1 Axes>"
      ]
     },
     "metadata": {},
     "output_type": "display_data"
    }
   ],
   "source": [
    "# Plot attendance rate using defined function.\n",
    "\n",
    "plot_bar(\n",
    "    age_attendance_rate,\n",
    "    title=\"Attendance Rate by Age Group\",\n",
    "    xlabel=\"Age Group\",\n",
    "    ylabel=\"Attendance Rate\",\n",
    "    colors='green'\n",
    "    \n",
    ")   \n"
   ]
  },
  {
   "cell_type": "markdown",
   "metadata": {},
   "source": [
    "### Key Findings:\n",
    "\n",
    "- The **19-35 age group** has the **lowest attendance rate (76.2%)**,  \n",
    "  meaning nearly **1 in 4** of them **miss their appointments**.\n",
    "- Attendance **steadily improves** with age, reaching a **peak (84.5%) in the 66-100 age group**.\n",
    "- The **101+ age group** has a **sharp drop in attendance (57.1%)**,  \n",
    "  possibly due to **mobility challenges, difficulty accessing healthcare, or other factors**.\n",
    "\n",
    "These findings suggest that **younger adults (19-35) are the most likely to miss appointments**,  \n",
    "while older adults **attend more consistently**—except for the **very oldest patients**.\n",
    "\n",
    "\n"
   ]
  },
  {
   "cell_type": "markdown",
   "metadata": {},
   "source": [
    "### 2. Do medical conditions (Hypertension, Diabetes, Alcoholism) impact attendance?"
   ]
  },
  {
   "cell_type": "markdown",
   "metadata": {},
   "source": [
    "### Calculate no-show rates for each condition\n",
    "To investigate whether **Hypertension, Diabetes, or Alcoholism** impact appointment attendance,  \n",
    "we calculate the **average no-show rate** for each condition.\n",
    "\n",
    "- The `no_show` column is **1 if the patient missed the appointment** and **0 if they attended**.\n",
    "- Grouping by each medical condition and taking the **mean** gives the **percentage of missed appointments**.\n",
    "\n",
    "This will help us determine if patients with these conditions are **more or less likely to miss appointments**."
   ]
  },
  {
   "cell_type": "code",
   "execution_count": 54,
   "metadata": {
    "tags": []
   },
   "outputs": [
    {
     "name": "stdout",
     "output_type": "stream",
     "text": [
      "hipertension  diabetes  alcoholism\n",
      "False         False     False         0.209094\n",
      "                        True          0.214614\n",
      "              True      False         0.199855\n",
      "                        True          0.171053\n",
      "True          False     False         0.170809\n",
      "                        True          0.184874\n",
      "              True      False         0.175762\n",
      "                        True          0.179688\n",
      "Name: no_show, dtype: float64\n"
     ]
    }
   ],
   "source": [
    "# Define medical condition columns\n",
    "\n",
    "condition_col = ['hipertension', 'diabetes', 'alcoholism']\n",
    "\n",
    "# Calculate no-show rates for each medical condition\n",
    "\n",
    "condition_no_show = df.groupby(condition_col)['no_show'].mean()\n",
    "\n",
    "print(condition_no_show)"
   ]
  },
  {
   "cell_type": "markdown",
   "metadata": {},
   "source": [
    "The table above shows the **average no-show rate** for patients based on their medical conditions.  \n",
    "Each row represents a different combination of **Hypertension, Diabetes, and Alcoholism**.\n",
    "\n",
    "Next, we visualize these trends."
   ]
  },
  {
   "cell_type": "markdown",
   "metadata": {},
   "source": [
    "### Visualizing No-Show Rates for Each Medical Condition\n",
    "\n",
    "To better understand how **Hypertension, Diabetes, and Alcoholism** impact attendance,  \n",
    "we will create **separate bar charts** for each condition.\n",
    "\n",
    "- Instead of plotting all three conditions together (which was hard to interpret),  \n",
    "  we generate **one bar chart per condition** for **clearer comparisons**.\n",
    "- Each bar chart will display **the average no-show rate** for patients **with and without** the condition.\n",
    "- This helps us **identify trends**—for example, whether patients with a condition are more likely to miss appointments."
   ]
  },
  {
   "cell_type": "code",
   "execution_count": 55,
   "metadata": {},
   "outputs": [
    {
     "data": {
      "image/png": "[encoded data removed]",
      "text/plain": [
       "<Figure size 800x500 with 1 Axes>"
      ]
     },
     "metadata": {},
     "output_type": "display_data"
    },
    {
     "data": {
      "image/png": "[encoded data removed]",
      "text/plain": [
       "<Figure size 800x500 with 1 Axes>"
      ]
     },
     "metadata": {},
     "output_type": "display_data"
    },
    {
     "data": {
      "image/png": "[encoded data removed]",
      "text/plain": [
       "<Figure size 800x500 with 1 Axes>"
      ]
     },
     "metadata": {},
     "output_type": "display_data"
    }
   ],
   "source": [
    "# Loop through each condition and plot its no-show rate using defined function.\n",
    "\n",
    "for condition in condition_col:\n",
    "    plot_bar(\n",
    "        df.groupby(condition)['no_show'].mean(), \n",
    "        title=f\"No-Show Rate by {condition.capitalize()}\", \n",
    "        xlabel=condition.capitalize(), \n",
    "        ylabel=\"No-Show Rate\",\n",
    "        labels=[\"Without Condition\", \"With Condition\"],\n",
    "        colors=['blue', 'red']\n",
    "    )\n"
   ]
  },
  {
   "cell_type": "markdown",
   "metadata": {},
   "source": [
    "### Key Findings:\n",
    "\n",
    "- **Hypertension:**  \n",
    "  - Patients **without Hypertension** had a no-show rate **slightly above 20% (~0.21)**.  \n",
    "  - Patients **with Hypertension** had a **slightly lower no-show rate (~18%)**.  \n",
    "  - The **difference is minor**, suggesting Hypertension **does not significantly impact attendance**.\n",
    "\n",
    "- **Diabetes:**  \n",
    "  - No-show rates are **very similar** for patients **with and without Diabetes**.  \n",
    "  - This suggests Diabetes does not have a **strong effect** on appointment attendance.\n",
    "\n",
    "- **Alcoholism:**  \n",
    "  - Both groups (patients **with and without Alcoholism**) had no-show rates **around 20%**.  \n",
    "  - Alcoholism also **does not appear to significantly impact attendance behavior**.\n"
   ]
  },
  {
   "cell_type": "markdown",
   "metadata": {},
   "source": [
    "### 3. Does receiving an SMS reminder reduce no-shows?  "
   ]
  },
  {
   "cell_type": "markdown",
   "metadata": {},
   "source": [
    " ### Comparing No-Show Rates: SMS Reminder vs. No SMS Reminder\n",
    "To determine whether **receiving an SMS reminder** reduces no-shows, we calculate the **average no-show rate** for two groups:\n",
    "- Patients who **did NOT** receive an SMS reminder (`sms_received = 0`)\n",
    "- Patients who **DID** receive an SMS reminder (`sms_received = 1`)\n",
    "\n",
    "By comparing the **no-show percentages** for both groups,  \n",
    "we can assess whether SMS reminders help improve attendance.\n",
    " "
   ]
  },
  {
   "cell_type": "code",
   "execution_count": 56,
   "metadata": {},
   "outputs": [
    {
     "name": "stdout",
     "output_type": "stream",
     "text": [
      "sms_received\n",
      "0    0.167035\n",
      "1    0.275745\n",
      "Name: no_show, dtype: float64\n"
     ]
    }
   ],
   "source": [
    "# Group by SMS received (0 = No, 1 = Yes) and calculate the no-show rate\n",
    "\n",
    "sms_no_show = df.groupby('sms_received')['no_show'].mean()\n",
    "\n",
    "print(sms_no_show)"
   ]
  },
  {
   "cell_type": "markdown",
   "metadata": {},
   "source": [
    "- Patients who **DID NOT** receive an SMS had a no-show rate of **16.7%**.  \n",
    "- Patients who **DID** receive an SMS had a **higher** no-show rate of **27.6%**.  \n",
    "\n",
    "This **unexpected result** suggests that **patients who received an SMS were actually more likely to miss their appointment**.  \n",
    "To explore this further, we visualize the no-show rates.\n"
   ]
  },
  {
   "cell_type": "markdown",
   "metadata": {},
   "source": [
    "### Visualizing No-Show Rates for SMS Recipients vs. Non-Recipients\n",
    "\n",
    "To better understand the impact of SMS reminders on attendance,  \n",
    "we use a **bar chart** to compare the no-show rates for:\n",
    "- Patients who **did not** receive an SMS (`sms_received = 0`)\n",
    "- Patients who **received** an SMS reminder (`sms_received = 1`)\n"
   ]
  },
  {
   "cell_type": "code",
   "execution_count": 57,
   "metadata": {},
   "outputs": [
    {
     "data": {
      "image/png": "[encoded data removed]",
      "text/plain": [
       "<Figure size 800x500 with 1 Axes>"
      ]
     },
     "metadata": {},
     "output_type": "display_data"
    }
   ],
   "source": [
    "# Plot no-show rates for recipients vs. non-recipients using defined function.\n",
    "\n",
    "plot_bar(\n",
    "    sms_no_show,\n",
    "    title=\"No-Show Rates for SMS Recipients vs. Non-Recipients\",\n",
    "    xlabel=\"SMS\",\n",
    "    ylabel=\"No-Show Rate\",\n",
    "    labels=[\"Not Received\", \"Received\"],\n",
    "    colors=['red', 'green']\n",
    ")\n"
   ]
  },
  {
   "cell_type": "markdown",
   "metadata": {},
   "source": [
    "### Key Findings:\n",
    "\n",
    "- The **no-show rate was higher for patients who received an SMS reminder (27.6%)** compared to those who **did not (16.7%).**  \n",
    "- This suggests that **receiving an SMS does not necessarily reduce no-shows**.  \n",
    "\n",
    "- A possible explanation is that **patients who received an SMS may already be more likely to miss their appointments**,  \n",
    "  so the SMS **does not cause the no-show but rather reflects an existing trend**.\n"
   ]
  },
  {
   "cell_type": "markdown",
   "metadata": {},
   "source": [
    "### Distribution of SMS Reminders Sent\n",
    "\n",
    "Before visualizing SMS reminders, we compute key statistics:\n",
    "- **Count**: Total number of patients in each SMS group.\n",
    "- **Mean**: The **average no-show rate** (proportion of missed appointments).\n",
    "- **Standard Deviation**: The **spread of no-show rates**, showing variability.\n",
    "\n",
    "This helps us understand **whether SMS reminders significantly impact attendance** before visualizing the distribution.\n"
   ]
  },
  {
   "cell_type": "code",
   "execution_count": 58,
   "metadata": {},
   "outputs": [
    {
     "name": "stdout",
     "output_type": "stream",
     "text": [
      "              count      mean       std\n",
      "sms_received                           \n",
      "0             75044  0.167035  0.373010\n",
      "1             35482  0.275745  0.446895\n"
     ]
    }
   ],
   "source": [
    "# Summary Statistics for SMS Reminders\n",
    "\n",
    "sms_summary = df.groupby('sms_received')['no_show'].agg(['count', 'mean', 'std'])\n",
    "\n",
    "print(sms_summary)"
   ]
  },
  {
   "cell_type": "markdown",
   "metadata": {},
   "source": [
    "- **75,044 patients (67.9%) did NOT receive an SMS.**  \n",
    "- **35,482 patients (32.1%) DID receive an SMS.**  \n",
    "- **The standard deviation is higher for SMS recipients (`std = 0.45`),**  \n",
    "  indicating **greater variability in their no-show behavior**.\n",
    "\n",
    "This suggests that **SMS reminders were not sent to all patients**,  \n",
    "but instead, they might have been targeted at certain groups.\n"
   ]
  },
  {
   "cell_type": "markdown",
   "metadata": {},
   "source": [
    "To further explore how frequently SMS reminders were used,  \n",
    "we create a **pie chart** showing the proportion of:\n",
    "- **Appointments where an SMS was received (`sms_received = 1`)**  \n",
    "- **Appointments where no SMS was sent (`sms_received = 0`)**"
   ]
  },
  {
   "cell_type": "code",
   "execution_count": 59,
   "metadata": {},
   "outputs": [
    {
     "name": "stdout",
     "output_type": "stream",
     "text": [
      "0    75044\n",
      "1    35482\n",
      "Name: sms_received, dtype: int64\n"
     ]
    }
   ],
   "source": [
    "# Count SMS reminder\n",
    "\n",
    "sms_count = df['sms_received'].value_counts()\n",
    "\n",
    "print(sms_count)"
   ]
  },
  {
   "cell_type": "code",
   "execution_count": 60,
   "metadata": {},
   "outputs": [
    {
     "data": {
      "image/png": "[encoded data removed]",
      "text/plain": [
       "<Figure size 600x600 with 1 Axes>"
      ]
     },
     "metadata": {},
     "output_type": "display_data"
    }
   ],
   "source": [
    "# Create pie chart\n",
    "\n",
    "plt.figure(figsize=(6, 6))\n",
    "plt.pie(sms_count, labels=['No SMS', 'SMS Sent'], autopct='%1.1f%%', \n",
    "        colors=['lightcoral', 'lightblue'])\n",
    "plt.title(\"Proportions of Appointments with SMS Reminders\")\n",
    "\n",
    "plt.show()"
   ]
  },
  {
   "cell_type": "markdown",
   "metadata": {},
   "source": [
    "### Key Findings:\n",
    "- **67.9% of appointments did NOT receive an SMS reminder** (red section).  \n",
    "- **Only 32.1% of appointments received an SMS** (blue section).  \n",
    "\n",
    "This suggests that SMS reminders **were not universally sent**  \n",
    "and might have been targeted toward **specific patient groups**,  \n",
    "which could explain why no-show rates were **higher among SMS recipients**.\n"
   ]
  },
  {
   "cell_type": "markdown",
   "metadata": {},
   "source": [
    "<a id='conclusions'></a>\n",
    "## Conclusions\n",
    "\n",
    "### What Factors Influence No-Shows?\n",
    "\n",
    "This analysis explored **three key factors** that may influence appointment attendance:  \n",
    "1️. **Age**  \n",
    "2️. **Medical Conditions (Hypertension, Diabetes, Alcoholism)**  \n",
    "3. **Receiving an SMS Reminder**  \n",
    "\n",
    "### Key Findings\n",
    "\n",
    "Our analysis revealed that:\n",
    "- Younger adults (**19-35 age group**) had the lowest attendance rate at (**76.2%**) making them the most likely to miss appointments.  \n",
    "- Attendance **steadily increased with age**, peaking in the **66-100 age group (84.5%)**.  \n",
    "- The **101+ age group had a sharp drop (57%)**, possibly due to mobility issues or health barriers.  \n",
    "\n",
    "- Medical conditions did not have significant impact in no-show rates. Minimal difference was observed for **Hypertension, Diabetes, or Alcoholism**.  \n",
    "- Patients **with or without these conditions had similar attendance behavior**, suggesting medical conditions alone do not strongly influence no-shows.  \n",
    "\n",
    "- **Unexpectedly, patients who received an SMS had a higher no-show rate (27.6%)**  \n",
    "  compared to those who did not receive an SMS (16.7%).  \n",
    "- This suggests that **SMS reminders were not randomly assigned**—they may have been sent to patients  \n",
    "  **who were already more likely to miss their appointments** (e.g., those with past no-shows).  \n",
    "- The pie chart showed that **only 32.1% of patients received an SMS**, further supporting the idea  \n",
    "  that SMS reminders may have been targeted to certain patient groups.  \n",
    "\n",
    "\n",
    "### Analysis Limitations\n",
    "\n",
    "**Correlation, Not Causation**  \n",
    "- This analysis only identifies **trends**; it does **not** prove that any of these factors **cause** no-shows.  \n",
    "- For example, while SMS recipients had **higher** no-show rates, we **cannot conclude** that SMS reminders  \n",
    "  **increase** no-shows—it’s more likely that **patients prone to missing appointments were targeted for reminders**.  \n",
    "\n",
    "**Lack of Additional Context**  \n",
    "- The dataset does not include **important behavioral or social factors** that may contribute to no-shows,  \n",
    "  such as **transportation issues, work conflicts, or patient motivation**.  \n",
    "- Including these factors could provide a **more comprehensive understanding** of why patients miss appointments.  \n",
    "\n",
    "**Potential Bias in SMS Reminder Data**  \n",
    "- Since **not all patients received an SMS reminder**, the no-show rates for SMS recipients may not be **representative**  \n",
    "  of the entire patient population. Further research is needed to determine **who was selected to receive reminders**.  \n",
    "\n",
    "\n",
    "### Final Thoughts\n",
    "\n",
    "This analysis provides **insights into patient attendance patterns** and highlights areas where further investigation is needed.  \n",
    "While **age is a notable factor**, medical conditions appear **less significant**, and the role of SMS reminders remains **unclear** due to potential selection bias.  \n",
    "\n",
    "By understanding the patterns behind **missed appointments**, healthcare providers can develop **better strategies**  \n",
    "to improve patient attendance and overall healthcare efficiency.  \n"
   ]
  },
  {
   "cell_type": "code",
   "execution_count": 61,
   "metadata": {
    "tags": []
   },
   "outputs": [
    {
     "name": "stdout",
     "output_type": "stream",
     "text": [
      "[NbConvertApp] Converting notebook Investigate_a_Dataset.ipynb to html\n",
      "[NbConvertApp] WARNING | Alternative text is missing on 6 image(s).\n",
      "[NbConvertApp] Writing 548706 bytes to Investigate_a_Dataset.html\n"
     ]
    }
   ],
   "source": [
    "# Running this cell will execute a bash command to convert this notebook to an .html file\n",
    "!python -m nbconvert --to html Investigate_a_Dataset.ipynb"
   ]
  },
  {
   "cell_type": "code",
   "execution_count": null,
   "metadata": {},
   "outputs": [],
   "source": []
  }
 ],
 "metadata": {
  "kernelspec": {
   "display_name": "Python 3 (ipykernel)",
   "language": "python",
   "name": "python3"
  },
  "language_info": {
   "codemirror_mode": {
    "name": "ipython",
    "version": 3
   },
   "file_extension": ".py",
   "mimetype": "text/x-python",
   "name": "python",
   "nbconvert_exporter": "python",
   "pygments_lexer": "ipython3",
   "version": "3.10.13"
  }
 },
 "nbformat": 4,
 "nbformat_minor": 4
}
